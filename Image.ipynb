{
  "cells": [
    {
      "cell_type": "code",
      "execution_count": 1,
      "metadata": {
        "id": "QEImxQ-vLzAN"
      },
      "outputs": [],
      "source": [
        "from PIL import Image"
      ]
    },
    {
      "cell_type": "code",
      "execution_count": 4,
      "metadata": {
        "colab": {
          "base_uri": "https://localhost:8080/",
          "height": 305
        },
        "id": "qyz5ZucxMQWB",
        "outputId": "4de931b5-c157-4676-8e10-984932e97871"
      },
      "outputs": [],
      "source": [
        "filename = 'main.jpg'\n",
        "with Image.open(filename) as img:\n",
        "  img.load()"
      ]
    },
    {
      "cell_type": "code",
      "execution_count": 5,
      "metadata": {},
      "outputs": [
        {
          "name": "stdout",
          "output_type": "stream",
          "text": [
            "<class 'PIL.JpegImagePlugin.JpegImageFile'>\n",
            "True\n",
            "None\n",
            "JPEG\n",
            "RGB\n",
            "(5472, 3648)\n"
          ]
        }
      ],
      "source": [
        "print(type(img))\n",
        "print(isinstance(img,Image.Image))\n",
        "print(img.show())\n",
        "print(img.format)\n",
        "print(img.mode)\n",
        "print(img.size)"
      ]
    },
    {
      "cell_type": "code",
      "execution_count": 6,
      "metadata": {},
      "outputs": [
        {
          "name": "stdout",
          "output_type": "stream",
          "text": [
            "(400, 850)\n"
          ]
        }
      ],
      "source": [
        "cropped_img = img.crop((300,150,700,1000))\n",
        "print(cropped_img.size)\n",
        "cropped_img.show()"
      ]
    },
    {
      "cell_type": "code",
      "execution_count": 8,
      "metadata": {},
      "outputs": [
        {
          "name": "stdout",
          "output_type": "stream",
          "text": [
            "<bound method Image.save of <PIL.Image.Image image mode=RGB size=133x425 at 0x10C512B10>>\n"
          ]
        }
      ],
      "source": [
        "low_res_img = cropped_img.resize(\n",
        "    (cropped_img.width // 3, cropped_img.height // 2)\n",
        ")\n",
        "print(low_res_img.save)\n",
        "low_res_img.show()"
      ]
    },
    {
      "cell_type": "code",
      "execution_count": 9,
      "metadata": {},
      "outputs": [],
      "source": [
        "low_res_img = cropped_img.reduce(4)\n",
        "low_res_img.show()"
      ]
    },
    {
      "cell_type": "code",
      "execution_count": 10,
      "metadata": {},
      "outputs": [],
      "source": [
        "cropped_img.save('croppedimg.jpg')\n",
        "low_res_img.save('low_res_img.jpg')"
      ]
    },
    {
      "cell_type": "code",
      "execution_count": 11,
      "metadata": {},
      "outputs": [],
      "source": [
        "timg = img.transpose(Image.FLIP_TOP_BOTTOM).show()"
      ]
    },
    {
      "cell_type": "code",
      "execution_count": 12,
      "metadata": {},
      "outputs": [],
      "source": [
        "img.rotate(45).show()\n",
        "rotatedimage = img.rotate(45,expand=True).show()"
      ]
    }
  ],
  "metadata": {
    "colab": {
      "provenance": []
    },
    "kernelspec": {
      "display_name": "Python 3",
      "name": "python3"
    },
    "language_info": {
      "codemirror_mode": {
        "name": "ipython",
        "version": 3
      },
      "file_extension": ".py",
      "mimetype": "text/x-python",
      "name": "python",
      "nbconvert_exporter": "python",
      "pygments_lexer": "ipython3",
      "version": "3.12.2"
    }
  },
  "nbformat": 4,
  "nbformat_minor": 0
}
