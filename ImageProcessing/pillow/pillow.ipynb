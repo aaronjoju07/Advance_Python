{
 "cells": [
  {
   "cell_type": "code",
   "execution_count": 1,
   "metadata": {},
   "outputs": [],
   "source": [
    "from PIL import Image"
   ]
  },
  {
   "cell_type": "code",
   "execution_count": 2,
   "metadata": {},
   "outputs": [],
   "source": [
    "image = Image.open('../../images/healthy.png')"
   ]
  },
  {
   "cell_type": "code",
   "execution_count": 3,
   "metadata": {},
   "outputs": [
    {
     "data": {
      "text/plain": [
       "2000"
      ]
     },
     "execution_count": 3,
     "metadata": {},
     "output_type": "execute_result"
    }
   ],
   "source": [
    "image.width"
   ]
  },
  {
   "cell_type": "code",
   "execution_count": 4,
   "metadata": {},
   "outputs": [
    {
     "data": {
      "text/plain": [
       "1428"
      ]
     },
     "execution_count": 4,
     "metadata": {},
     "output_type": "execute_result"
    }
   ],
   "source": [
    "image.height"
   ]
  },
  {
   "cell_type": "code",
   "execution_count": 5,
   "metadata": {},
   "outputs": [
    {
     "data": {
      "text/plain": [
       "'PNG'"
      ]
     },
     "execution_count": 5,
     "metadata": {},
     "output_type": "execute_result"
    }
   ],
   "source": [
    "image.format"
   ]
  },
  {
   "cell_type": "code",
   "execution_count": 6,
   "metadata": {},
   "outputs": [
    {
     "data": {
      "text/plain": [
       "(2000, 1428)"
      ]
     },
     "execution_count": 6,
     "metadata": {},
     "output_type": "execute_result"
    }
   ],
   "source": [
    "image.size"
   ]
  },
  {
   "cell_type": "code",
   "execution_count": 7,
   "metadata": {},
   "outputs": [],
   "source": [
    "image.palette"
   ]
  },
  {
   "cell_type": "code",
   "execution_count": 8,
   "metadata": {},
   "outputs": [
    {
     "data": {
      "text/plain": [
       "'RGBA'"
      ]
     },
     "execution_count": 8,
     "metadata": {},
     "output_type": "execute_result"
    }
   ],
   "source": [
    "image.mode"
   ]
  },
  {
   "cell_type": "code",
   "execution_count": 9,
   "metadata": {},
   "outputs": [],
   "source": [
    "image.show()"
   ]
  },
  {
   "cell_type": "markdown",
   "metadata": {},
   "source": [
    "### save file "
   ]
  },
  {
   "cell_type": "code",
   "execution_count": 10,
   "metadata": {},
   "outputs": [],
   "source": [
    "# image.save('saveedImage','JPEG')"
   ]
  },
  {
   "cell_type": "markdown",
   "metadata": {},
   "source": [
    "### Supported Formats"
   ]
  },
  {
   "cell_type": "code",
   "execution_count": 11,
   "metadata": {},
   "outputs": [
    {
     "name": "stdout",
     "output_type": "stream",
     "text": [
      ".bmp: B, M, P\n",
      ".dib: D, I, B\n",
      ".gif: G, I, F\n",
      ".jfif: J, P, E, G\n",
      ".jpe: J, P, E, G\n",
      ".jpg: J, P, E, G\n",
      ".jpeg: J, P, E, G\n",
      ".pbm: P, P, M\n",
      ".pgm: P, P, M\n",
      ".ppm: P, P, M\n",
      ".pnm: P, P, M\n",
      ".png: P, N, G\n",
      ".apng: P, N, G\n",
      ".blp: B, L, P\n",
      ".bufr: B, U, F, R\n",
      ".cur: C, U, R\n",
      ".pcx: P, C, X\n",
      ".dcx: D, C, X\n",
      ".dds: D, D, S\n",
      ".ps: E, P, S\n",
      ".eps: E, P, S\n",
      ".fit: F, I, T, S\n",
      ".fits: F, I, T, S\n",
      ".fli: F, L, I\n",
      ".flc: F, L, I\n",
      ".ftc: F, T, E, X\n",
      ".ftu: F, T, E, X\n",
      ".gbr: G, B, R\n",
      ".grib: G, R, I, B\n",
      ".h5: H, D, F, 5\n",
      ".hdf: H, D, F, 5\n",
      ".jp2: J, P, E, G, 2, 0, 0, 0\n",
      ".j2k: J, P, E, G, 2, 0, 0, 0\n",
      ".jpc: J, P, E, G, 2, 0, 0, 0\n",
      ".jpf: J, P, E, G, 2, 0, 0, 0\n",
      ".jpx: J, P, E, G, 2, 0, 0, 0\n",
      ".j2c: J, P, E, G, 2, 0, 0, 0\n",
      ".icns: I, C, N, S\n",
      ".ico: I, C, O\n",
      ".im: I, M\n",
      ".iim: I, P, T, C\n",
      ".mpg: M, P, E, G\n",
      ".mpeg: M, P, E, G\n",
      ".tif: T, I, F, F\n",
      ".tiff: T, I, F, F\n",
      ".mpo: M, P, O\n",
      ".msp: M, S, P\n",
      ".palm: P, A, L, M\n",
      ".pcd: P, C, D\n",
      ".pdf: P, D, F\n",
      ".pxr: P, I, X, A, R\n",
      ".psd: P, S, D\n",
      ".qoi: Q, O, I\n",
      ".bw: S, G, I\n",
      ".rgb: S, G, I\n",
      ".rgba: S, G, I\n",
      ".sgi: S, G, I\n",
      ".ras: S, U, N\n",
      ".tga: T, G, A\n",
      ".icb: T, G, A\n",
      ".vda: T, G, A\n",
      ".vst: T, G, A\n",
      ".webp: W, E, B, P\n",
      ".wmf: W, M, F\n",
      ".emf: W, M, F\n",
      ".xbm: X, B, M\n",
      ".xpm: X, P, M\n"
     ]
    }
   ],
   "source": [
    "supported_formats = Image.registered_extensions()\n",
    "\n",
    "for format_name,extensions in supported_formats.items():\n",
    "    print(f\"{format_name}: {', '.join(extensions)}\")"
   ]
  },
  {
   "cell_type": "markdown",
   "metadata": {},
   "source": [
    "### Cutting,Pasting and Meargign Image"
   ]
  },
  {
   "cell_type": "markdown",
   "metadata": {},
   "source": [
    "#### Croping"
   ]
  },
  {
   "cell_type": "code",
   "execution_count": 12,
   "metadata": {},
   "outputs": [],
   "source": [
    "box = (100,100,400,400)"
   ]
  },
  {
   "cell_type": "code",
   "execution_count": 13,
   "metadata": {},
   "outputs": [],
   "source": [
    "smallImage = Image.open('../../images/jpgImage.jpeg')\n",
    "region  =smallImage.crop(box)\n",
    "region.show()"
   ]
  },
  {
   "cell_type": "code",
   "execution_count": null,
   "metadata": {},
   "outputs": [],
   "source": [
    "\n",
    "\n",
    "region  =image.crop(box)\n",
    "region.show()"
   ]
  },
  {
   "cell_type": "markdown",
   "metadata": {},
   "source": [
    "#### Procesing a sub-reactangle, and pasting it back"
   ]
  },
  {
   "cell_type": "code",
   "execution_count": null,
   "metadata": {},
   "outputs": [],
   "source": [
    "region = region.transpose(Image.Transpose.FLIP_LEFT_RIGHT)\n",
    "image.paste(region,box)\n",
    "region.show()"
   ]
  },
  {
   "cell_type": "markdown",
   "metadata": {},
   "source": [
    "#### Splitting and merging color bands"
   ]
  },
  {
   "cell_type": "code",
   "execution_count": null,
   "metadata": {},
   "outputs": [],
   "source": [
    "image1 = Image.open('../../images/pngIamge.jpeg')\n",
    "image.show()"
   ]
  },
  {
   "cell_type": "code",
   "execution_count": null,
   "metadata": {},
   "outputs": [],
   "source": [
    "r,g,b,=smallImage.split()\n",
    "\n",
    "smallImage = Image.merge('RGB',(g,b,r))\n",
    "smallImage.show()"
   ]
  }
 ],
 "metadata": {
  "kernelspec": {
   "display_name": "Python 3",
   "language": "python",
   "name": "python3"
  },
  "language_info": {
   "codemirror_mode": {
    "name": "ipython",
    "version": 3
   },
   "file_extension": ".py",
   "mimetype": "text/x-python",
   "name": "python",
   "nbconvert_exporter": "python",
   "pygments_lexer": "ipython3",
   "version": "3.9.6"
  }
 },
 "nbformat": 4,
 "nbformat_minor": 2
}
