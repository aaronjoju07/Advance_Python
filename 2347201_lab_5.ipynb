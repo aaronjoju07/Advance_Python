{
 "cells": [
  {
   "cell_type": "code",
   "execution_count": 2,
   "metadata": {},
   "outputs": [
    {
     "name": "stdout",
     "output_type": "stream",
     "text": [
      "Video created at: output.mp4\n"
     ]
    }
   ],
   "source": [
    "import os\n",
    "import cv2\n",
    "\n",
    "def create_video_from_images(image_folder, output_video_path, fps=30, resolution=(1920, 1080), duration_per_image=1):\n",
    "    images = [img for img in os.listdir(image_folder) if img.endswith(\".jpg\") or img.endswith(\".png\")]\n",
    "    \n",
    "    frame = cv2.imread(os.path.join(image_folder, images[0]))\n",
    "    height, width, layers = frame.shape\n",
    "\n",
    "    video = cv2.VideoWriter(output_video_path, cv2.VideoWriter_fourcc(*'mp4v'), fps, resolution)\n",
    "\n",
    "    for image in images:\n",
    "        frame = cv2.imread(os.path.join(image_folder, image))\n",
    "        frame = cv2.resize(frame, resolution)\n",
    "        \n",
    "        # Repeat each frame for the specified duration\n",
    "        for _ in range(fps * duration_per_image):\n",
    "            video.write(frame)\n",
    "\n",
    "    video.release()\n",
    "\n",
    "    print(f\"Video created at: {output_video_path}\")\n",
    "\n",
    "if __name__ == \"__main__\":\n",
    "    image_folder = \"input_images\"\n",
    "    output_video_path = \"output.mp4\"\n",
    "    fps = 30\n",
    "    resolution = (1920, 1080)\n",
    "    duration_per_image = 5  # Duration per image in seconds\n",
    "\n",
    "    create_video_from_images(image_folder, output_video_path, fps, resolution, duration_per_image)\n"
   ]
  },
  {
   "cell_type": "code",
   "execution_count": 7,
   "metadata": {},
   "outputs": [
    {
     "name": "stdout",
     "output_type": "stream",
     "text": [
      "Video created at: output_from_camera.mp4\n"
     ]
    }
   ],
   "source": [
    "import cv2\n",
    "\n",
    "def create_video_from_camera(output_video_path, fps=30, resolution=(1920, 1080)):\n",
    "    # Open the default camera\n",
    "    cap = cv2.VideoCapture(0)  # Change to 1 or 2 if you have multiple cameras\n",
    "\n",
    "    if not cap.isOpened():\n",
    "        print(\"Error: Unable to open camera.\")\n",
    "        return\n",
    "\n",
    "    # Get the width and height of the captured frames\n",
    "    width = int(cap.get(cv2.CAP_PROP_FRAME_WIDTH))\n",
    "    height = int(cap.get(cv2.CAP_PROP_FRAME_HEIGHT))\n",
    "\n",
    "    # Define the codec and create VideoWriter object\n",
    "    fourcc = cv2.VideoWriter_fourcc(*'mp4v')\n",
    "    video = cv2.VideoWriter(output_video_path, fourcc, fps, resolution)\n",
    "\n",
    "    while True:\n",
    "        ret, frame = cap.read()\n",
    "        if not ret:\n",
    "            print(\"Error: Failed to capture frame.\")\n",
    "            break\n",
    "\n",
    "        frame = cv2.resize(frame, resolution)\n",
    "        video.write(frame)\n",
    "\n",
    "        cv2.imshow('Camera Feed', frame)\n",
    "        if cv2.waitKey(1) & 0xFF == ord('q'):\n",
    "            break\n",
    "\n",
    "    # Release resources\n",
    "    cap.release()\n",
    "    video.release()\n",
    "    cv2.destroyAllWindows()\n",
    "\n",
    "    print(f\"Video created at: {output_video_path}\")\n",
    "\n",
    "if __name__ == \"__main__\":\n",
    "    output_video_path = \"output_from_camera.mp4\"\n",
    "    fps = 30\n",
    "    resolution = (1920, 1080)\n",
    "\n",
    "    create_video_from_camera(output_video_path, fps, resolution)\n"
   ]
  },
  {
   "cell_type": "code",
   "execution_count": 3,
   "metadata": {},
   "outputs": [
    {
     "name": "stdout",
     "output_type": "stream",
     "text": [
      "Video created at: output_from_camera.mp4\n"
     ]
    }
   ],
   "source": [
    "import cv2\n",
    "\n",
    "def create_video_from_camera(output_video_path, fps=30, resolution=(1920, 1080)):\n",
    "    # Open the default camera\n",
    "    cap = cv2.VideoCapture(0)  # Change to 1 or 2 if you have multiple cameras\n",
    "\n",
    "    if not cap.isOpened():\n",
    "        print(\"Error: Unable to open camera.\")\n",
    "        return\n",
    "\n",
    "    # Get the width and height of the captured frames\n",
    "    width = int(cap.get(cv2.CAP_PROP_FRAME_WIDTH))\n",
    "    height = int(cap.get(cv2.CAP_PROP_FRAME_HEIGHT))\n",
    "\n",
    "    # Define the codec and create VideoWriter object\n",
    "    fourcc = cv2.VideoWriter_fourcc(*'mp4v')\n",
    "    video = cv2.VideoWriter(output_video_path, fourcc, fps, resolution)\n",
    "\n",
    "    while True:\n",
    "        ret, frame = cap.read()\n",
    "        if not ret:\n",
    "            print(\"Error: Failed to capture frame.\")\n",
    "            break\n",
    "\n",
    "        frame = cv2.resize(frame, resolution)\n",
    "        video.write(frame)\n",
    "\n",
    "        cv2.imshow('Camera Feed', frame)\n",
    "        if cv2.waitKey(1) & 0xFF == ord('q'):\n",
    "            break\n",
    "\n",
    "    # Release resources\n",
    "    cap.release()\n",
    "    video.release()\n",
    "    cv2.destroyAllWindows()\n",
    "\n",
    "    print(f\"Video created at: {output_video_path}\")\n",
    "\n",
    "if __name__ == \"__main__\":\n",
    "    output_video_path = \"output_from_camera.mp4\"\n",
    "    fps = 30\n",
    "    resolution = (1920, 1080)\n",
    "\n",
    "    create_video_from_camera(output_video_path, fps, resolution)"
   ]
  }
 ],
 "metadata": {
  "kernelspec": {
   "display_name": "Python 3",
   "language": "python",
   "name": "python3"
  },
  "language_info": {
   "codemirror_mode": {
    "name": "ipython",
    "version": 3
   },
   "file_extension": ".py",
   "mimetype": "text/x-python",
   "name": "python",
   "nbconvert_exporter": "python",
   "pygments_lexer": "ipython3",
   "version": "3.9.6"
  }
 },
 "nbformat": 4,
 "nbformat_minor": 2
}
