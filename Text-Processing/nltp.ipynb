{
 "cells": [
  {
   "cell_type": "code",
   "execution_count": 1,
   "metadata": {},
   "outputs": [],
   "source": [
    "import nltk\n",
    "# nltk.download('all')\n",
    "from nltk.tokenize import sent_tokenize,word_tokenize,WordPunctTokenizer,TreebankWordTokenizer,RegexpTokenizer"
   ]
  },
  {
   "cell_type": "markdown",
   "metadata": {},
   "source": [
    "### Tokenizing"
   ]
  },
  {
   "cell_type": "code",
   "execution_count": 2,
   "metadata": {},
   "outputs": [],
   "source": [
    "given_string = \"\"\"\"Dr. Devi ShettyLabs Limited stands tall within the Great Namaste Towers, offering cutting-edge healthcare services. As the company's network security engineer, you are tasked with designing and implementing a secure healthcare information network system that ensures confidentiality, integrity, and availability of data and communication. With user counts expected to double by 2025, scalability is a critical consideration. Leveraging Cisco Packet Tracer, you'll employ a hierarchical design model, incorporating redundancy for resilience. The network will feature distinct segments for LAN, WLAN, Voice, and DMZ, each with designated IP address ranges. Cisco routers and switches, along with a Cisco ASA Firewall, will fortify the network's security, while Voice over IP (VoIP) capabilities and Wireless LAN Controllers (WLC) will enhance communication efficiency. Thorough testing will validate the network's performance, meeting the company's stringent requirements for reliability and scalability in delivering top-tier healthcare services.\"\"\""
   ]
  },
  {
   "cell_type": "code",
   "execution_count": 3,
   "metadata": {},
   "outputs": [
    {
     "data": {
      "text/plain": [
       "['I cant allow you  to go home early']"
      ]
     },
     "execution_count": 3,
     "metadata": {},
     "output_type": "execute_result"
    }
   ],
   "source": [
    "sent_tokenize(\"I cant allow you  to go home early\")"
   ]
  },
  {
   "cell_type": "code",
   "execution_count": 4,
   "metadata": {},
   "outputs": [
    {
     "data": {
      "text/plain": [
       "['\"Dr. Devi ShettyLabs Limited stands tall within the Great Namaste Towers, offering cutting-edge healthcare services.',\n",
       " \"As the company's network security engineer, you are tasked with designing and implementing a secure healthcare information network system that ensures confidentiality, integrity, and availability of data and communication.\",\n",
       " 'With user counts expected to double by 2025, scalability is a critical consideration.',\n",
       " \"Leveraging Cisco Packet Tracer, you'll employ a hierarchical design model, incorporating redundancy for resilience.\",\n",
       " 'The network will feature distinct segments for LAN, WLAN, Voice, and DMZ, each with designated IP address ranges.',\n",
       " \"Cisco routers and switches, along with a Cisco ASA Firewall, will fortify the network's security, while Voice over IP (VoIP) capabilities and Wireless LAN Controllers (WLC) will enhance communication efficiency.\",\n",
       " \"Thorough testing will validate the network's performance, meeting the company's stringent requirements for reliability and scalability in delivering top-tier healthcare services.\"]"
      ]
     },
     "execution_count": 4,
     "metadata": {},
     "output_type": "execute_result"
    }
   ],
   "source": [
    "sent_tokenize(given_string)"
   ]
  },
  {
   "cell_type": "code",
   "execution_count": 5,
   "metadata": {},
   "outputs": [
    {
     "data": {
      "text/plain": [
       "1046"
      ]
     },
     "execution_count": 5,
     "metadata": {},
     "output_type": "execute_result"
    }
   ],
   "source": [
    "len(given_string)"
   ]
  },
  {
   "cell_type": "code",
   "execution_count": 6,
   "metadata": {},
   "outputs": [
    {
     "data": {
      "text/plain": [
       "['I', 'ca', \"n't\", 'allow', 'you', 'to', 'go', 'home', 'early']"
      ]
     },
     "execution_count": 6,
     "metadata": {},
     "output_type": "execute_result"
    }
   ],
   "source": [
    "word_tokenize(\"I can't allow you  to go home early\")"
   ]
  },
  {
   "cell_type": "code",
   "execution_count": 7,
   "metadata": {},
   "outputs": [
    {
     "data": {
      "text/plain": [
       "['I', 'can', \"'\", 't', 'allow', 'you', 'to', 'go', 'home', 'early']"
      ]
     },
     "execution_count": 7,
     "metadata": {},
     "output_type": "execute_result"
    }
   ],
   "source": [
    "WordPunctTokenizer().tokenize(\"I can't allow you  to go home early\")"
   ]
  },
  {
   "cell_type": "code",
   "execution_count": 8,
   "metadata": {},
   "outputs": [
    {
     "data": {
      "text/plain": [
       "['I', 'ca', \"n't\", 'allow', 'you', 'to', 'go', 'home', 'early']"
      ]
     },
     "execution_count": 8,
     "metadata": {},
     "output_type": "execute_result"
    }
   ],
   "source": [
    "TreebankWordTokenizer().tokenize(\"I can't allow you  to go home early\")"
   ]
  },
  {
   "cell_type": "code",
   "execution_count": 9,
   "metadata": {},
   "outputs": [
    {
     "data": {
      "text/plain": [
       "['I', \"can't\", 'allow', 'you', 'to', 'go', 'home', 'early']"
      ]
     },
     "execution_count": 9,
     "metadata": {},
     "output_type": "execute_result"
    }
   ],
   "source": [
    "tokenizee = RegexpTokenizer(\"[\\w']+\")\n",
    "tokenizee.tokenize(\"I can't allow you  to go home early.\")"
   ]
  },
  {
   "cell_type": "code",
   "execution_count": 10,
   "metadata": {},
   "outputs": [
    {
     "name": "stdout",
     "output_type": "stream",
     "text": [
      "['i', 'me', 'my', 'myself', 'we', 'our', 'ours', 'ourselves', 'you', \"you're\", \"you've\", \"you'll\", \"you'd\", 'your', 'yours', 'yourself', 'yourselves', 'he', 'him', 'his', 'himself', 'she', \"she's\", 'her', 'hers', 'herself', 'it', \"it's\", 'its', 'itself', 'they', 'them', 'their', 'theirs', 'themselves', 'what', 'which', 'who', 'whom', 'this', 'that', \"that'll\", 'these', 'those', 'am', 'is', 'are', 'was', 'were', 'be', 'been', 'being', 'have', 'has', 'had', 'having', 'do', 'does', 'did', 'doing', 'a', 'an', 'the', 'and', 'but', 'if', 'or', 'because', 'as', 'until', 'while', 'of', 'at', 'by', 'for', 'with', 'about', 'against', 'between', 'into', 'through', 'during', 'before', 'after', 'above', 'below', 'to', 'from', 'up', 'down', 'in', 'out', 'on', 'off', 'over', 'under', 'again', 'further', 'then', 'once', 'here', 'there', 'when', 'where', 'why', 'how', 'all', 'any', 'both', 'each', 'few', 'more', 'most', 'other', 'some', 'such', 'no', 'nor', 'not', 'only', 'own', 'same', 'so', 'than', 'too', 'very', 's', 't', 'can', 'will', 'just', 'don', \"don't\", 'should', \"should've\", 'now', 'd', 'll', 'm', 'o', 're', 've', 'y', 'ain', 'aren', \"aren't\", 'couldn', \"couldn't\", 'didn', \"didn't\", 'doesn', \"doesn't\", 'hadn', \"hadn't\", 'hasn', \"hasn't\", 'haven', \"haven't\", 'isn', \"isn't\", 'ma', 'mightn', \"mightn't\", 'mustn', \"mustn't\", 'needn', \"needn't\", 'shan', \"shan't\", 'shouldn', \"shouldn't\", 'wasn', \"wasn't\", 'weren', \"weren't\", 'won', \"won't\", 'wouldn', \"wouldn't\"]\n",
      "['\"', 'r', '.', ' ', 'e', 'v', ' ', 'h', 'e', 'L', 'b', ' ', 'L', 'e', ' ', 'n', ' ', 'l', 'l', ' ', 'w', 'h', 'n', ' ', 'h', 'e', ' ', 'G', 'r', 'e', ' ', 'N', 'e', ' ', 'w', 'e', 'r', ',', ' ', 'f', 'f', 'e', 'r', 'n', 'g', ' ', 'c', 'u', 'n', 'g', '-', 'e', 'g', 'e', ' ', 'h', 'e', 'l', 'h', 'c', 'r', 'e', ' ', 'e', 'r', 'v', 'c', 'e', '.', ' ', ' ', 'h', 'e', ' ', 'c', 'p', 'n', \"'\", ' ', 'n', 'e', 'w', 'r', 'k', ' ', 'e', 'c', 'u', 'r', ' ', 'e', 'n', 'g', 'n', 'e', 'e', 'r', ',', ' ', 'u', ' ', 'r', 'e', ' ', 'k', 'e', ' ', 'w', 'h', ' ', 'e', 'g', 'n', 'n', 'g', ' ', 'n', ' ', 'p', 'l', 'e', 'e', 'n', 'n', 'g', ' ', ' ', 'e', 'c', 'u', 'r', 'e', ' ', 'h', 'e', 'l', 'h', 'c', 'r', 'e', ' ', 'n', 'f', 'r', 'n', ' ', 'n', 'e', 'w', 'r', 'k', ' ', 'e', ' ', 'h', ' ', 'e', 'n', 'u', 'r', 'e', ' ', 'c', 'n', 'f', 'e', 'n', 'l', ',', ' ', 'n', 'e', 'g', 'r', ',', ' ', 'n', ' ', 'v', 'l', 'b', 'l', ' ', 'f', ' ', ' ', 'n', ' ', 'c', 'u', 'n', 'c', 'n', '.', ' ', 'W', 'h', ' ', 'u', 'e', 'r', ' ', 'c', 'u', 'n', ' ', 'e', 'x', 'p', 'e', 'c', 'e', ' ', ' ', 'u', 'b', 'l', 'e', ' ', 'b', ' ', '2', '0', '2', '5', ',', ' ', 'c', 'l', 'b', 'l', ' ', ' ', ' ', 'c', 'r', 'c', 'l', ' ', 'c', 'n', 'e', 'r', 'n', '.', ' ', 'L', 'e', 'v', 'e', 'r', 'g', 'n', 'g', ' ', 'C', 'c', ' ', 'P', 'c', 'k', 'e', ' ', 'r', 'c', 'e', 'r', ',', ' ', 'u', \"'\", 'l', 'l', ' ', 'e', 'p', 'l', ' ', ' ', 'h', 'e', 'r', 'r', 'c', 'h', 'c', 'l', ' ', 'e', 'g', 'n', ' ', 'e', 'l', ',', ' ', 'n', 'c', 'r', 'p', 'r', 'n', 'g', ' ', 'r', 'e', 'u', 'n', 'n', 'c', ' ', 'f', 'r', ' ', 'r', 'e', 'l', 'e', 'n', 'c', 'e', '.', ' ', 'h', 'e', ' ', 'n', 'e', 'w', 'r', 'k', ' ', 'w', 'l', 'l', ' ', 'f', 'e', 'u', 'r', 'e', ' ', 'n', 'c', ' ', 'e', 'g', 'e', 'n', ' ', 'f', 'r', ' ', 'L', 'N', ',', ' ', 'W', 'L', 'N', ',', ' ', 'V', 'c', 'e', ',', ' ', 'n', ' ', 'Z', ',', ' ', 'e', 'c', 'h', ' ', 'w', 'h', ' ', 'e', 'g', 'n', 'e', ' ', 'P', ' ', 'r', 'e', ' ', 'r', 'n', 'g', 'e', '.', ' ', 'C', 'c', ' ', 'r', 'u', 'e', 'r', ' ', 'n', ' ', 'w', 'c', 'h', 'e', ',', ' ', 'l', 'n', 'g', ' ', 'w', 'h', ' ', ' ', 'C', 'c', ' ', ' ', 'F', 'r', 'e', 'w', 'l', 'l', ',', ' ', 'w', 'l', 'l', ' ', 'f', 'r', 'f', ' ', 'h', 'e', ' ', 'n', 'e', 'w', 'r', 'k', \"'\", ' ', 'e', 'c', 'u', 'r', ',', ' ', 'w', 'h', 'l', 'e', ' ', 'V', 'c', 'e', ' ', 'v', 'e', 'r', ' ', 'P', ' ', '(', 'V', 'P', ')', ' ', 'c', 'p', 'b', 'l', 'e', ' ', 'n', ' ', 'W', 'r', 'e', 'l', 'e', ' ', 'L', 'N', ' ', 'C', 'n', 'r', 'l', 'l', 'e', 'r', ' ', '(', 'W', 'L', 'C', ')', ' ', 'w', 'l', 'l', ' ', 'e', 'n', 'h', 'n', 'c', 'e', ' ', 'c', 'u', 'n', 'c', 'n', ' ', 'e', 'f', 'f', 'c', 'e', 'n', 'c', '.', ' ', 'h', 'r', 'u', 'g', 'h', ' ', 'e', 'n', 'g', ' ', 'w', 'l', 'l', ' ', 'v', 'l', 'e', ' ', 'h', 'e', ' ', 'n', 'e', 'w', 'r', 'k', \"'\", ' ', 'p', 'e', 'r', 'f', 'r', 'n', 'c', 'e', ',', ' ', 'e', 'e', 'n', 'g', ' ', 'h', 'e', ' ', 'c', 'p', 'n', \"'\", ' ', 'r', 'n', 'g', 'e', 'n', ' ', 'r', 'e', 'q', 'u', 'r', 'e', 'e', 'n', ' ', 'f', 'r', ' ', 'r', 'e', 'l', 'b', 'l', ' ', 'n', ' ', 'c', 'l', 'b', 'l', ' ', 'n', ' ', 'e', 'l', 'v', 'e', 'r', 'n', 'g', ' ', 'p', '-', 'e', 'r', ' ', 'h', 'e', 'l', 'h', 'c', 'r', 'e', ' ', 'e', 'r', 'v', 'c', 'e', '.']\n",
      "1046\n",
      "643\n"
     ]
    }
   ],
   "source": [
    "from nltk.corpus import stopwords\n",
    "print(stopwords.words('english'))\n",
    "given_text = word_tokenize(\"I can't allow you  to go home early\")\n",
    "stop_words = set(stopwords.words(\"english\"))\n",
    "filtered_text = []\n",
    "for word in given_string:\n",
    "    if word.casefold() not in stop_words:\n",
    "        filtered_text.append(word)\n",
    "print(filtered_text)\n",
    "print(len(given_string))\n",
    "print(len(filtered_text))"
   ]
  },
  {
   "cell_type": "markdown",
   "metadata": {},
   "source": [
    "### Stemming"
   ]
  },
  {
   "cell_type": "code",
   "execution_count": 11,
   "metadata": {},
   "outputs": [
    {
     "name": "stdout",
     "output_type": "stream",
     "text": [
      "['``', 'Dr.', 'Devi', 'ShettyLabs', 'Limited', 'stands', 'tall', 'within', 'the', 'Great', 'Namaste', 'Towers', ',', 'offering', 'cutting-edge', 'healthcare', 'services', '.', 'As', 'the', 'company', \"'s\", 'network', 'security', 'engineer', ',', 'you', 'are', 'tasked', 'with', 'designing', 'and', 'implementing', 'a', 'secure', 'healthcare', 'information', 'network', 'system', 'that', 'ensures', 'confidentiality', ',', 'integrity', ',', 'and', 'availability', 'of', 'data', 'and', 'communication', '.', 'With', 'user', 'counts', 'expected', 'to', 'double', 'by', '2025', ',', 'scalability', 'is', 'a', 'critical', 'consideration', '.', 'Leveraging', 'Cisco', 'Packet', 'Tracer', ',', 'you', \"'ll\", 'employ', 'a', 'hierarchical', 'design', 'model', ',', 'incorporating', 'redundancy', 'for', 'resilience', '.', 'The', 'network', 'will', 'feature', 'distinct', 'segments', 'for', 'LAN', ',', 'WLAN', ',', 'Voice', ',', 'and', 'DMZ', ',', 'each', 'with', 'designated', 'IP', 'address', 'ranges', '.', 'Cisco', 'routers', 'and', 'switches', ',', 'along', 'with', 'a', 'Cisco', 'ASA', 'Firewall', ',', 'will', 'fortify', 'the', 'network', \"'s\", 'security', ',', 'while', 'Voice', 'over', 'IP', '(', 'VoIP', ')', 'capabilities', 'and', 'Wireless', 'LAN', 'Controllers', '(', 'WLC', ')', 'will', 'enhance', 'communication', 'efficiency', '.', 'Thorough', 'testing', 'will', 'validate', 'the', 'network', \"'s\", 'performance', ',', 'meeting', 'the', 'company', \"'s\", 'stringent', 'requirements', 'for', 'reliability', 'and', 'scalability', 'in', 'delivering', 'top-tier', 'healthcare', 'services', '.']\n",
      "['``', 'dr.', 'devi', 'shettylab', 'limit', 'stand', 'tall', 'within', 'the', 'great', 'namast', 'tower', ',', 'offer', 'cutting-edg', 'healthcar', 'servic', '.', 'as', 'the', 'compani', \"'s\", 'network', 'secur', 'engin', ',', 'you', 'are', 'task', 'with', 'design', 'and', 'implement', 'a', 'secur', 'healthcar', 'inform', 'network', 'system', 'that', 'ensur', 'confidenti', ',', 'integr', ',', 'and', 'avail', 'of', 'data', 'and', 'commun', '.', 'with', 'user', 'count', 'expect', 'to', 'doubl', 'by', '2025', ',', 'scalabl', 'is', 'a', 'critic', 'consider', '.', 'leverag', 'cisco', 'packet', 'tracer', ',', 'you', \"'ll\", 'employ', 'a', 'hierarch', 'design', 'model', ',', 'incorpor', 'redund', 'for', 'resili', '.', 'the', 'network', 'will', 'featur', 'distinct', 'segment', 'for', 'lan', ',', 'wlan', ',', 'voic', ',', 'and', 'dmz', ',', 'each', 'with', 'design', 'ip', 'address', 'rang', '.', 'cisco', 'router', 'and', 'switch', ',', 'along', 'with', 'a', 'cisco', 'asa', 'firewal', ',', 'will', 'fortifi', 'the', 'network', \"'s\", 'secur', ',', 'while', 'voic', 'over', 'ip', '(', 'voip', ')', 'capabl', 'and', 'wireless', 'lan', 'control', '(', 'wlc', ')', 'will', 'enhanc', 'commun', 'effici', '.', 'thorough', 'test', 'will', 'valid', 'the', 'network', \"'s\", 'perform', ',', 'meet', 'the', 'compani', \"'s\", 'stringent', 'requir', 'for', 'reliabl', 'and', 'scalabl', 'in', 'deliv', 'top-tier', 'healthcar', 'servic', '.']\n"
     ]
    }
   ],
   "source": [
    "from nltk.stem import PorterStemmer\n",
    "stemmer = PorterStemmer()\n",
    "words = word_tokenize(given_string)\n",
    "print(words)\n",
    "stemmed_word = [stemmer.stem(word) for word in words]\n",
    "print(stemmed_word)"
   ]
  },
  {
   "cell_type": "markdown",
   "metadata": {},
   "source": [
    "### Lemmatization"
   ]
  },
  {
   "cell_type": "code",
   "execution_count": 12,
   "metadata": {},
   "outputs": [
    {
     "name": "stdout",
     "output_type": "stream",
     "text": [
      "rocks : rock\n",
      "corpora : corpus\n",
      "better : better\n",
      "better : good\n"
     ]
    }
   ],
   "source": [
    "from nltk.stem import WordNetLemmatizer\n",
    "lemmatization = WordNetLemmatizer()\n",
    "print(\"rocks :\",lemmatization.lemmatize(\"rocks\"))\n",
    "print(\"corpora :\",lemmatization.lemmatize(\"corpora\"))\n",
    "print(\"better :\",lemmatization.lemmatize(\"better\"))\n",
    "print(\"better :\",lemmatization.lemmatize(\"better\",pos=\"a\"))"
   ]
  },
  {
   "cell_type": "code",
   "execution_count": 13,
   "metadata": {},
   "outputs": [
    {
     "data": {
      "text/plain": [
       "[('``', '``'),\n",
       " ('Dr.', 'NNP'),\n",
       " ('Devi', 'NNP'),\n",
       " ('ShettyLabs', 'NNP'),\n",
       " ('Limited', 'NNP'),\n",
       " ('stands', 'VBZ'),\n",
       " ('tall', 'JJ'),\n",
       " ('within', 'IN'),\n",
       " ('the', 'DT'),\n",
       " ('Great', 'NNP'),\n",
       " ('Namaste', 'NNP'),\n",
       " ('Towers', 'NNP'),\n",
       " (',', ','),\n",
       " ('offering', 'VBG'),\n",
       " ('cutting-edge', 'NN'),\n",
       " ('healthcare', 'NN'),\n",
       " ('services', 'NNS'),\n",
       " ('.', '.'),\n",
       " ('As', 'IN'),\n",
       " ('the', 'DT'),\n",
       " ('company', 'NN'),\n",
       " (\"'s\", 'POS'),\n",
       " ('network', 'NN'),\n",
       " ('security', 'NN'),\n",
       " ('engineer', 'NN'),\n",
       " (',', ','),\n",
       " ('you', 'PRP'),\n",
       " ('are', 'VBP'),\n",
       " ('tasked', 'VBN'),\n",
       " ('with', 'IN'),\n",
       " ('designing', 'NN'),\n",
       " ('and', 'CC'),\n",
       " ('implementing', 'VBG'),\n",
       " ('a', 'DT'),\n",
       " ('secure', 'NN'),\n",
       " ('healthcare', 'NN'),\n",
       " ('information', 'NN'),\n",
       " ('network', 'NN'),\n",
       " ('system', 'NN'),\n",
       " ('that', 'WDT'),\n",
       " ('ensures', 'VBZ'),\n",
       " ('confidentiality', 'NN'),\n",
       " (',', ','),\n",
       " ('integrity', 'NN'),\n",
       " (',', ','),\n",
       " ('and', 'CC'),\n",
       " ('availability', 'NN'),\n",
       " ('of', 'IN'),\n",
       " ('data', 'NNS'),\n",
       " ('and', 'CC'),\n",
       " ('communication', 'NN'),\n",
       " ('.', '.'),\n",
       " ('With', 'IN'),\n",
       " ('user', 'JJ'),\n",
       " ('counts', 'NNS'),\n",
       " ('expected', 'VBN'),\n",
       " ('to', 'TO'),\n",
       " ('double', 'VB'),\n",
       " ('by', 'IN'),\n",
       " ('2025', 'CD'),\n",
       " (',', ','),\n",
       " ('scalability', 'NN'),\n",
       " ('is', 'VBZ'),\n",
       " ('a', 'DT'),\n",
       " ('critical', 'JJ'),\n",
       " ('consideration', 'NN'),\n",
       " ('.', '.'),\n",
       " ('Leveraging', 'VBG'),\n",
       " ('Cisco', 'NNP'),\n",
       " ('Packet', 'NNP'),\n",
       " ('Tracer', 'NNP'),\n",
       " (',', ','),\n",
       " ('you', 'PRP'),\n",
       " (\"'ll\", 'MD'),\n",
       " ('employ', 'VB'),\n",
       " ('a', 'DT'),\n",
       " ('hierarchical', 'JJ'),\n",
       " ('design', 'NN'),\n",
       " ('model', 'NN'),\n",
       " (',', ','),\n",
       " ('incorporating', 'VBG'),\n",
       " ('redundancy', 'NN'),\n",
       " ('for', 'IN'),\n",
       " ('resilience', 'NN'),\n",
       " ('.', '.'),\n",
       " ('The', 'DT'),\n",
       " ('network', 'NN'),\n",
       " ('will', 'MD'),\n",
       " ('feature', 'VB'),\n",
       " ('distinct', 'JJ'),\n",
       " ('segments', 'NNS'),\n",
       " ('for', 'IN'),\n",
       " ('LAN', 'NNP'),\n",
       " (',', ','),\n",
       " ('WLAN', 'NNP'),\n",
       " (',', ','),\n",
       " ('Voice', 'NNP'),\n",
       " (',', ','),\n",
       " ('and', 'CC'),\n",
       " ('DMZ', 'NNP'),\n",
       " (',', ','),\n",
       " ('each', 'DT'),\n",
       " ('with', 'IN'),\n",
       " ('designated', 'VBN'),\n",
       " ('IP', 'NNP'),\n",
       " ('address', 'NN'),\n",
       " ('ranges', 'VBZ'),\n",
       " ('.', '.'),\n",
       " ('Cisco', 'NNP'),\n",
       " ('routers', 'NNS'),\n",
       " ('and', 'CC'),\n",
       " ('switches', 'NNS'),\n",
       " (',', ','),\n",
       " ('along', 'IN'),\n",
       " ('with', 'IN'),\n",
       " ('a', 'DT'),\n",
       " ('Cisco', 'NNP'),\n",
       " ('ASA', 'NNP'),\n",
       " ('Firewall', 'NNP'),\n",
       " (',', ','),\n",
       " ('will', 'MD'),\n",
       " ('fortify', 'VB'),\n",
       " ('the', 'DT'),\n",
       " ('network', 'NN'),\n",
       " (\"'s\", 'POS'),\n",
       " ('security', 'NN'),\n",
       " (',', ','),\n",
       " ('while', 'IN'),\n",
       " ('Voice', 'NNP'),\n",
       " ('over', 'IN'),\n",
       " ('IP', 'NNP'),\n",
       " ('(', '('),\n",
       " ('VoIP', 'NNP'),\n",
       " (')', ')'),\n",
       " ('capabilities', 'NNS'),\n",
       " ('and', 'CC'),\n",
       " ('Wireless', 'NNP'),\n",
       " ('LAN', 'NNP'),\n",
       " ('Controllers', 'NNP'),\n",
       " ('(', '('),\n",
       " ('WLC', 'NNP'),\n",
       " (')', ')'),\n",
       " ('will', 'MD'),\n",
       " ('enhance', 'VB'),\n",
       " ('communication', 'NN'),\n",
       " ('efficiency', 'NN'),\n",
       " ('.', '.'),\n",
       " ('Thorough', 'IN'),\n",
       " ('testing', 'VBG'),\n",
       " ('will', 'MD'),\n",
       " ('validate', 'VB'),\n",
       " ('the', 'DT'),\n",
       " ('network', 'NN'),\n",
       " (\"'s\", 'POS'),\n",
       " ('performance', 'NN'),\n",
       " (',', ','),\n",
       " ('meeting', 'VBG'),\n",
       " ('the', 'DT'),\n",
       " ('company', 'NN'),\n",
       " (\"'s\", 'POS'),\n",
       " ('stringent', 'NN'),\n",
       " ('requirements', 'NNS'),\n",
       " ('for', 'IN'),\n",
       " ('reliability', 'NN'),\n",
       " ('and', 'CC'),\n",
       " ('scalability', 'NN'),\n",
       " ('in', 'IN'),\n",
       " ('delivering', 'VBG'),\n",
       " ('top-tier', 'NN'),\n",
       " ('healthcare', 'NN'),\n",
       " ('services', 'NNS'),\n",
       " ('.', '.')]"
      ]
     },
     "execution_count": 13,
     "metadata": {},
     "output_type": "execute_result"
    }
   ],
   "source": [
    "nltk.pos_tag(words)"
   ]
  },
  {
   "cell_type": "code",
   "execution_count": 14,
   "metadata": {},
   "outputs": [
    {
     "name": "stdout",
     "output_type": "stream",
     "text": [
      "$: dollar\n",
      "    $ -$ --$ A$ C$ HK$ M$ NZ$ S$ U.S.$ US$\n",
      "'': closing quotation mark\n",
      "    ' ''\n",
      "(: opening parenthesis\n",
      "    ( [ {\n",
      "): closing parenthesis\n",
      "    ) ] }\n",
      ",: comma\n",
      "    ,\n",
      "--: dash\n",
      "    --\n",
      ".: sentence terminator\n",
      "    . ! ?\n",
      ":: colon or ellipsis\n",
      "    : ; ...\n",
      "CC: conjunction, coordinating\n",
      "    & 'n and both but either et for less minus neither nor or plus so\n",
      "    therefore times v. versus vs. whether yet\n",
      "CD: numeral, cardinal\n",
      "    mid-1890 nine-thirty forty-two one-tenth ten million 0.5 one forty-\n",
      "    seven 1987 twenty '79 zero two 78-degrees eighty-four IX '60s .025\n",
      "    fifteen 271,124 dozen quintillion DM2,000 ...\n",
      "DT: determiner\n",
      "    all an another any both del each either every half la many much nary\n",
      "    neither no some such that the them these this those\n",
      "EX: existential there\n",
      "    there\n",
      "FW: foreign word\n",
      "    gemeinschaft hund ich jeux habeas Haementeria Herr K'ang-si vous\n",
      "    lutihaw alai je jour objets salutaris fille quibusdam pas trop Monte\n",
      "    terram fiche oui corporis ...\n",
      "IN: preposition or conjunction, subordinating\n",
      "    astride among uppon whether out inside pro despite on by throughout\n",
      "    below within for towards near behind atop around if like until below\n",
      "    next into if beside ...\n",
      "JJ: adjective or numeral, ordinal\n",
      "    third ill-mannered pre-war regrettable oiled calamitous first separable\n",
      "    ectoplasmic battery-powered participatory fourth still-to-be-named\n",
      "    multilingual multi-disciplinary ...\n",
      "JJR: adjective, comparative\n",
      "    bleaker braver breezier briefer brighter brisker broader bumper busier\n",
      "    calmer cheaper choosier cleaner clearer closer colder commoner costlier\n",
      "    cozier creamier crunchier cuter ...\n",
      "JJS: adjective, superlative\n",
      "    calmest cheapest choicest classiest cleanest clearest closest commonest\n",
      "    corniest costliest crassest creepiest crudest cutest darkest deadliest\n",
      "    dearest deepest densest dinkiest ...\n",
      "LS: list item marker\n",
      "    A A. B B. C C. D E F First G H I J K One SP-44001 SP-44002 SP-44005\n",
      "    SP-44007 Second Third Three Two * a b c d first five four one six three\n",
      "    two\n",
      "MD: modal auxiliary\n",
      "    can cannot could couldn't dare may might must need ought shall should\n",
      "    shouldn't will would\n",
      "NN: noun, common, singular or mass\n",
      "    common-carrier cabbage knuckle-duster Casino afghan shed thermostat\n",
      "    investment slide humour falloff slick wind hyena override subhumanity\n",
      "    machinist ...\n",
      "NNP: noun, proper, singular\n",
      "    Motown Venneboerger Czestochwa Ranzer Conchita Trumplane Christos\n",
      "    Oceanside Escobar Kreisler Sawyer Cougar Yvette Ervin ODI Darryl CTCA\n",
      "    Shannon A.K.C. Meltex Liverpool ...\n",
      "NNPS: noun, proper, plural\n",
      "    Americans Americas Amharas Amityvilles Amusements Anarcho-Syndicalists\n",
      "    Andalusians Andes Andruses Angels Animals Anthony Antilles Antiques\n",
      "    Apache Apaches Apocrypha ...\n",
      "NNS: noun, common, plural\n",
      "    undergraduates scotches bric-a-brac products bodyguards facets coasts\n",
      "    divestitures storehouses designs clubs fragrances averages\n",
      "    subjectivists apprehensions muses factory-jobs ...\n",
      "PDT: pre-determiner\n",
      "    all both half many quite such sure this\n",
      "POS: genitive marker\n",
      "    ' 's\n",
      "PRP: pronoun, personal\n",
      "    hers herself him himself hisself it itself me myself one oneself ours\n",
      "    ourselves ownself self she thee theirs them themselves they thou thy us\n",
      "PRP$: pronoun, possessive\n",
      "    her his mine my our ours their thy your\n",
      "RB: adverb\n",
      "    occasionally unabatingly maddeningly adventurously professedly\n",
      "    stirringly prominently technologically magisterially predominately\n",
      "    swiftly fiscally pitilessly ...\n",
      "RBR: adverb, comparative\n",
      "    further gloomier grander graver greater grimmer harder harsher\n",
      "    healthier heavier higher however larger later leaner lengthier less-\n",
      "    perfectly lesser lonelier longer louder lower more ...\n",
      "RBS: adverb, superlative\n",
      "    best biggest bluntest earliest farthest first furthest hardest\n",
      "    heartiest highest largest least less most nearest second tightest worst\n",
      "RP: particle\n",
      "    aboard about across along apart around aside at away back before behind\n",
      "    by crop down ever fast for forth from go high i.e. in into just later\n",
      "    low more off on open out over per pie raising start teeth that through\n",
      "    under unto up up-pp upon whole with you\n",
      "SYM: symbol\n",
      "    % & ' '' ''. ) ). * + ,. < = > @ A[fj] U.S U.S.S.R * ** ***\n",
      "TO: \"to\" as preposition or infinitive marker\n",
      "    to\n",
      "UH: interjection\n",
      "    Goodbye Goody Gosh Wow Jeepers Jee-sus Hubba Hey Kee-reist Oops amen\n",
      "    huh howdy uh dammit whammo shucks heck anyways whodunnit honey golly\n",
      "    man baby diddle hush sonuvabitch ...\n",
      "VB: verb, base form\n",
      "    ask assemble assess assign assume atone attention avoid bake balkanize\n",
      "    bank begin behold believe bend benefit bevel beware bless boil bomb\n",
      "    boost brace break bring broil brush build ...\n",
      "VBD: verb, past tense\n",
      "    dipped pleaded swiped regummed soaked tidied convened halted registered\n",
      "    cushioned exacted snubbed strode aimed adopted belied figgered\n",
      "    speculated wore appreciated contemplated ...\n",
      "VBG: verb, present participle or gerund\n",
      "    telegraphing stirring focusing angering judging stalling lactating\n",
      "    hankerin' alleging veering capping approaching traveling besieging\n",
      "    encrypting interrupting erasing wincing ...\n",
      "VBN: verb, past participle\n",
      "    multihulled dilapidated aerosolized chaired languished panelized used\n",
      "    experimented flourished imitated reunifed factored condensed sheared\n",
      "    unsettled primed dubbed desired ...\n",
      "VBP: verb, present tense, not 3rd person singular\n",
      "    predominate wrap resort sue twist spill cure lengthen brush terminate\n",
      "    appear tend stray glisten obtain comprise detest tease attract\n",
      "    emphasize mold postpone sever return wag ...\n",
      "VBZ: verb, present tense, 3rd person singular\n",
      "    bases reconstructs marks mixes displeases seals carps weaves snatches\n",
      "    slumps stretches authorizes smolders pictures emerges stockpiles\n",
      "    seduces fizzes uses bolsters slaps speaks pleads ...\n",
      "WDT: WH-determiner\n",
      "    that what whatever which whichever\n",
      "WP: WH-pronoun\n",
      "    that what whatever whatsoever which who whom whosoever\n",
      "WP$: WH-pronoun, possessive\n",
      "    whose\n",
      "WRB: Wh-adverb\n",
      "    how however whence whenever where whereby whereever wherein whereof why\n",
      "``: opening quotation mark\n",
      "    ` ``\n"
     ]
    }
   ],
   "source": [
    "nltk.help.upenn_tagset()"
   ]
  },
  {
   "cell_type": "markdown",
   "metadata": {},
   "source": [
    "consider a text with 6 sentenses generate the bar graph related to this text"
   ]
  },
  {
   "cell_type": "code",
   "execution_count": 15,
   "metadata": {},
   "outputs": [],
   "source": [
    "sentense= \"\"\"The sun cast a warm glow over the tranquil meadow, painting the landscape in hues of gold and green.Birds chirped melodiously, adding a symphony to the gentle rustle of leaves in the breeze.Butterflies danced among the wildflowers, their delicate wings fluttering with grace and elegance.A sense of serenity enveloped the scene, as if time itself had slowed to savor the beauty of the moment.It was a perfect day, where nature's harmony whispered secrets of peace and contentment to those willing to listen.\"\"\"\n"
   ]
  },
  {
   "cell_type": "code",
   "execution_count": 16,
   "metadata": {},
   "outputs": [
    {
     "name": "stdout",
     "output_type": "stream",
     "text": [
      "The length of the sentence is: 507 words\n"
     ]
    }
   ],
   "source": [
    "words_len = len(sentense)\n",
    "print('The length of the sentence is:',words_len,'words')"
   ]
  },
  {
   "cell_type": "code",
   "execution_count": 17,
   "metadata": {},
   "outputs": [
    {
     "name": "stdout",
     "output_type": "stream",
     "text": [
      "The length of the sentence is: 86 words\n"
     ]
    }
   ],
   "source": [
    "tokenizee = RegexpTokenizer(\"[\\w']+\")\n",
    "tokenize_word =tokenizee.tokenize(sentense)\n",
    "tokenize_word_len = len(tokenize_word)\n",
    "print('The length of the sentence is:',tokenize_word_len,'words')"
   ]
  },
  {
   "cell_type": "code",
   "execution_count": 18,
   "metadata": {},
   "outputs": [
    {
     "name": "stdout",
     "output_type": "stream",
     "text": [
      "Number of words after removing stop words : 643\n"
     ]
    }
   ],
   "source": [
    "given_text = word_tokenize(sentense)\n",
    "stop_words = set(stopwords.words(\"english\"))\n",
    "filtered_text = []\n",
    "for word in given_string:\n",
    "    if word.casefold() not in stop_words:\n",
    "        filtered_text.append(word)\n",
    "filtered_text_len = len(filtered_text)\n",
    "print(f\"Number of words after removing stop words : {filtered_text_len}\")"
   ]
  },
  {
   "cell_type": "code",
   "execution_count": 19,
   "metadata": {},
   "outputs": [
    {
     "name": "stdout",
     "output_type": "stream",
     "text": [
      "Number of words after PorterStemmer : 89\n"
     ]
    }
   ],
   "source": [
    "stemmer = PorterStemmer()\n",
    "wordss = word_tokenize(sentense)\n",
    "stemmed_word = [stemmer.stem(word) for word in wordss]\n",
    "stemmed_word_len = len(stemmed_word)\n",
    "print(f\"Number of words after PorterStemmer : {stemmed_word_len}\")"
   ]
  },
  {
   "cell_type": "code",
   "execution_count": 20,
   "metadata": {},
   "outputs": [],
   "source": [
    "import pandas as pd\n",
    "data = [words_len,stemmed_word_len,filtered_text_len,tokenize_word_len]\n",
    "df = pd.Series(data)"
   ]
  },
  {
   "cell_type": "markdown",
   "metadata": {},
   "source": [
    "### FreeDist"
   ]
  },
  {
   "cell_type": "code",
   "execution_count": 21,
   "metadata": {},
   "outputs": [
    {
     "data": {
      "text/plain": [
       "\"Cars have revolutionized transportation since their inception, becoming an indispensable aspect of modern life. Beyond mere utility, cars have evolved into symbols of status, freedom, and personal expression. From sleek sports cars that embody speed and luxury to practical family vehicles designed for comfort and safety, the automotive industry offers a diverse array of options to cater to different needs and desires.\\n\\nTechnological advancements have propelled the automotive sector into new frontiers, with innovations ranging from electric and hybrid engines to autonomous driving systems. These developments not only aim to reduce environmental impact but also enhance safety and convenience for drivers and passengers alike. As the world shifts towards sustainable practices, the integration of renewable energy sources and eco-friendly materials in car manufacturing continues to gain momentum.\\n\\nMoreover, cars play a crucial role in shaping cultural identities and societal trends. They feature prominently in literature, film, and music, often serving as symbols of adventure, romance, or rebellion. Car enthusiasts form vibrant communities, united by their passion for automotive craftsmanship and performance. Whether it's the thrill of a race or the tranquility of a road trip, cars facilitate memorable experiences that enrich the human journey.\""
      ]
     },
     "execution_count": 21,
     "metadata": {},
     "output_type": "execute_result"
    }
   ],
   "source": [
    "f = open(\"sample.txt\", \"r\")\n",
    "data = f.read()\n",
    "data"
   ]
  },
  {
   "cell_type": "code",
   "execution_count": 22,
   "metadata": {},
   "outputs": [
    {
     "name": "stdout",
     "output_type": "stream",
     "text": [
      "Number of words after removing stop words : 816\n",
      "\n",
      "     0    1\n",
      "0       191\n",
      "1    e  138\n",
      "2    n   95\n",
      "3    r   88\n",
      "4    l   44\n",
      "5    c   44\n",
      "6    u   32\n",
      "7    f   32\n",
      "8    h   30\n",
      "9    p   24\n",
      "10   v   22\n",
      "11   ,   15\n",
      "12   g   14\n",
      "13   b   13\n",
      "14   .   10\n",
      "15   w    5\n",
      "16  \\n    4\n",
      "17   x    3\n",
      "18   C    2\n",
      "19   k    2\n"
     ]
    },
    {
     "data": {
      "image/png": "[encoded data removed]",
      "text/plain": [
       "<Figure size 1000x600 with 1 Axes>"
      ]
     },
     "metadata": {},
     "output_type": "display_data"
    }
   ],
   "source": [
    "from nltk import FreqDist\n",
    "import numpy as np\n",
    "import matplotlib.pyplot as plt\n",
    "#Tockenization\n",
    "sent_tokenize_data = word_tokenize(data)\n",
    "#stopwords\n",
    "stop_words = set(stopwords.words(\"english\"))\n",
    "filtered_text = []\n",
    "for word in data:\n",
    "    if word.casefold() not in stop_words:\n",
    "        filtered_text.append(word)\n",
    "filtered_text_len = len(filtered_text)\n",
    "print(f\"Number of words after removing stop words : {filtered_text_len}\")\n",
    "#\n",
    "fd = nltk.FreqDist(filtered_text)\n",
    "y =fd.most_common(20)\n",
    "print()\n",
    "df = pd.DataFrame(y)\n",
    "print(df)\n",
    "df = pd.DataFrame(y, columns=['Word', 'Frequency'])\n",
    "\n",
    "# Plot a bar graph\n",
    "plt.figure(figsize=(10, 6))\n",
    "plt.bar(df['Word'], df['Frequency'])\n",
    "plt.xlabel('Word')\n",
    "plt.ylabel('Frequency')\n",
    "plt.title('Top 20 Most Common Words (after removing stopwords)')\n",
    "plt.xticks(rotation=45, ha='right')\n",
    "plt.tight_layout()\n",
    "plt.show()\n",
    "\n"
   ]
  },
  {
   "cell_type": "code",
   "execution_count": 23,
   "metadata": {},
   "outputs": [
    {
     "ename": "OSError",
     "evalue": "[E050] Can't find model 'en_core_web_sm'. It doesn't seem to be a Python package or a valid path to a data directory.",
     "output_type": "error",
     "traceback": [
      "\u001b[0;31m---------------------------------------------------------------------------\u001b[0m",
      "\u001b[0;31mOSError\u001b[0m                                   Traceback (most recent call last)",
      "Cell \u001b[0;32mIn[23], line 4\u001b[0m\n\u001b[1;32m      2\u001b[0m \u001b[38;5;28;01mfrom\u001b[39;00m \u001b[38;5;21;01mspacy\u001b[39;00m \u001b[38;5;28;01mimport\u001b[39;00m displacy\n\u001b[1;32m      3\u001b[0m text\u001b[38;5;241m=\u001b[39m \u001b[38;5;124m\"\u001b[39m\u001b[38;5;124mThe sun cast a warm glow over the tranquil meadow, painting the landscape in hues of gold and green.Birds chirped melodiously, adding a symphony to the gentle rustle of leaves in the breeze.Butterflies danced among the wildflowers, their delicate wings fluttering with grace and elegance.A sense of serenity enveloped the scene, as if time itself had slowed to savor the beauty of the moment.It was a perfect day, where nature\u001b[39m\u001b[38;5;124m'\u001b[39m\u001b[38;5;124ms harmony whispered secrets of peace and contentment to those willing to listen.\u001b[39m\u001b[38;5;124m\"\u001b[39m\n\u001b[0;32m----> 4\u001b[0m nlp \u001b[38;5;241m=\u001b[39m \u001b[43mspacy\u001b[49m\u001b[38;5;241;43m.\u001b[39;49m\u001b[43mload\u001b[49m\u001b[43m(\u001b[49m\u001b[38;5;124;43m\"\u001b[39;49m\u001b[38;5;124;43men_core_web_sm\u001b[39;49m\u001b[38;5;124;43m\"\u001b[39;49m\u001b[43m)\u001b[49m\n\u001b[1;32m      5\u001b[0m doc \u001b[38;5;241m=\u001b[39m nlp(text)\n\u001b[1;32m      6\u001b[0m displacy\u001b[38;5;241m.\u001b[39mserve(doc,style\u001b[38;5;241m=\u001b[39m\u001b[38;5;124m\"\u001b[39m\u001b[38;5;124ment\u001b[39m\u001b[38;5;124m\"\u001b[39m)\n",
      "File \u001b[0;32m~/Library/Python/3.9/lib/python/site-packages/spacy/__init__.py:51\u001b[0m, in \u001b[0;36mload\u001b[0;34m(name, vocab, disable, enable, exclude, config)\u001b[0m\n\u001b[1;32m     27\u001b[0m \u001b[38;5;28;01mdef\u001b[39;00m \u001b[38;5;21mload\u001b[39m(\n\u001b[1;32m     28\u001b[0m     name: Union[\u001b[38;5;28mstr\u001b[39m, Path],\n\u001b[1;32m     29\u001b[0m     \u001b[38;5;241m*\u001b[39m,\n\u001b[0;32m   (...)\u001b[0m\n\u001b[1;32m     34\u001b[0m     config: Union[Dict[\u001b[38;5;28mstr\u001b[39m, Any], Config] \u001b[38;5;241m=\u001b[39m util\u001b[38;5;241m.\u001b[39mSimpleFrozenDict(),\n\u001b[1;32m     35\u001b[0m ) \u001b[38;5;241m-\u001b[39m\u001b[38;5;241m>\u001b[39m Language:\n\u001b[1;32m     36\u001b[0m \u001b[38;5;250m    \u001b[39m\u001b[38;5;124;03m\"\"\"Load a spaCy model from an installed package or a local path.\u001b[39;00m\n\u001b[1;32m     37\u001b[0m \n\u001b[1;32m     38\u001b[0m \u001b[38;5;124;03m    name (str): Package name or model path.\u001b[39;00m\n\u001b[0;32m   (...)\u001b[0m\n\u001b[1;32m     49\u001b[0m \u001b[38;5;124;03m    RETURNS (Language): The loaded nlp object.\u001b[39;00m\n\u001b[1;32m     50\u001b[0m \u001b[38;5;124;03m    \"\"\"\u001b[39;00m\n\u001b[0;32m---> 51\u001b[0m     \u001b[38;5;28;01mreturn\u001b[39;00m \u001b[43mutil\u001b[49m\u001b[38;5;241;43m.\u001b[39;49m\u001b[43mload_model\u001b[49m\u001b[43m(\u001b[49m\n\u001b[1;32m     52\u001b[0m \u001b[43m        \u001b[49m\u001b[43mname\u001b[49m\u001b[43m,\u001b[49m\n\u001b[1;32m     53\u001b[0m \u001b[43m        \u001b[49m\u001b[43mvocab\u001b[49m\u001b[38;5;241;43m=\u001b[39;49m\u001b[43mvocab\u001b[49m\u001b[43m,\u001b[49m\n\u001b[1;32m     54\u001b[0m \u001b[43m        \u001b[49m\u001b[43mdisable\u001b[49m\u001b[38;5;241;43m=\u001b[39;49m\u001b[43mdisable\u001b[49m\u001b[43m,\u001b[49m\n\u001b[1;32m     55\u001b[0m \u001b[43m        \u001b[49m\u001b[43menable\u001b[49m\u001b[38;5;241;43m=\u001b[39;49m\u001b[43menable\u001b[49m\u001b[43m,\u001b[49m\n\u001b[1;32m     56\u001b[0m \u001b[43m        \u001b[49m\u001b[43mexclude\u001b[49m\u001b[38;5;241;43m=\u001b[39;49m\u001b[43mexclude\u001b[49m\u001b[43m,\u001b[49m\n\u001b[1;32m     57\u001b[0m \u001b[43m        \u001b[49m\u001b[43mconfig\u001b[49m\u001b[38;5;241;43m=\u001b[39;49m\u001b[43mconfig\u001b[49m\u001b[43m,\u001b[49m\n\u001b[1;32m     58\u001b[0m \u001b[43m    \u001b[49m\u001b[43m)\u001b[49m\n",
      "File \u001b[0;32m~/Library/Python/3.9/lib/python/site-packages/spacy/util.py:472\u001b[0m, in \u001b[0;36mload_model\u001b[0;34m(name, vocab, disable, enable, exclude, config)\u001b[0m\n\u001b[1;32m    470\u001b[0m \u001b[38;5;28;01mif\u001b[39;00m name \u001b[38;5;129;01min\u001b[39;00m OLD_MODEL_SHORTCUTS:\n\u001b[1;32m    471\u001b[0m     \u001b[38;5;28;01mraise\u001b[39;00m \u001b[38;5;167;01mIOError\u001b[39;00m(Errors\u001b[38;5;241m.\u001b[39mE941\u001b[38;5;241m.\u001b[39mformat(name\u001b[38;5;241m=\u001b[39mname, full\u001b[38;5;241m=\u001b[39mOLD_MODEL_SHORTCUTS[name]))  \u001b[38;5;66;03m# type: ignore[index]\u001b[39;00m\n\u001b[0;32m--> 472\u001b[0m \u001b[38;5;28;01mraise\u001b[39;00m \u001b[38;5;167;01mIOError\u001b[39;00m(Errors\u001b[38;5;241m.\u001b[39mE050\u001b[38;5;241m.\u001b[39mformat(name\u001b[38;5;241m=\u001b[39mname))\n",
      "\u001b[0;31mOSError\u001b[0m: [E050] Can't find model 'en_core_web_sm'. It doesn't seem to be a Python package or a valid path to a data directory."
     ]
    }
   ],
   "source": [
    "import spacy\n",
    "from spacy import displacy\n",
    "text= \"The sun cast a warm glow over the tranquil meadow, painting the landscape in hues of gold and green.Birds chirped melodiously, adding a symphony to the gentle rustle of leaves in the breeze.Butterflies danced among the wildflowers, their delicate wings fluttering with grace and elegance.A sense of serenity enveloped the scene, as if time itself had slowed to savor the beauty of the moment.It was a perfect day, where nature's harmony whispered secrets of peace and contentment to those willing to listen.\"\n",
    "nlp = spacy.load(\"en_core_web_sm\")\n",
    "doc = nlp(text)\n",
    "displacy.serve(doc,style=\"ent\")"
   ]
  }
 ],
 "metadata": {
  "kernelspec": {
   "display_name": "Python 3",
   "language": "python",
   "name": "python3"
  },
  "language_info": {
   "codemirror_mode": {
    "name": "ipython",
    "version": 3
   },
   "file_extension": ".py",
   "mimetype": "text/x-python",
   "name": "python",
   "nbconvert_exporter": "python",
   "pygments_lexer": "ipython3",
   "version": "3.9.6"
  }
 },
 "nbformat": 4,
 "nbformat_minor": 2
}
